{
 "cells": [
  {
   "cell_type": "markdown",
   "metadata": {},
   "source": [
    "# KNN 算法"
   ]
  },
  {
   "cell_type": "markdown",
   "metadata": {},
   "source": [
    "### 什么是kNN算法  \n",
    "\n",
    "**kNN(k-nearest neighbors)**，中文翻译为K近邻,是一个思想很简单，应用数学知识少，用来解决分类问题的算法。  \n",
    "![knn](./knn01.jpg)"
   ]
  },
  {
   "cell_type": "markdown",
   "metadata": {},
   "source": [
    "如图，是一个肿瘤病人的相关数据，横轴代表一个特征，是指病人的一个肿瘤大小，纵轴是指发现肿瘤的时间；对于每一个病人，他的肿瘤大小和发现的时间就构成了这个图像上的一个点，对于这个点，我们在图像上就能看出它是恶性肿瘤还是良性肿瘤（蓝色属于恶性，红色属性良性）。\n",
    "\n",
    "现在新来了一个病人，这个病人的特征在图上用绿色的点来表示，那如何来判断该病人是属于良性肿瘤患者还是恶性肿瘤患者？\n",
    "首先，我们必须先取一个k值，如图，假设我们k值取的是3，knn算法做的是在所有的数据点中寻找离这个新数据点最近的三个点，然后这些的点，以它们自己的结果(良性或恶性)进行投票，图上红色和蓝色的比率是2：1，因此，k近邻算法判断新来病人很大的概率是良性肿瘤患者。\n",
    "\n",
    "k近邻算法中的k值就是我们要找最近的k个样本值来进行投票计算。"
   ]
  },
  {
   "cell_type": "markdown",
   "metadata": {},
   "source": [
    "### 欧拉距离"
   ]
  },
  {
   "cell_type": "markdown",
   "metadata": {},
   "source": [
    "新的样本点是如何与其他数据点进行距离计算的呢？\n",
    "对于两个特征点它们的距离，我们首先使用最为常见的欧拉距离，下图是欧拉距离的数学公式。\n",
    "\n",
    "![欧拉公式](./knn02.png)  \n",
    "\n",
    "##### 通过扩展得到如下公式\n",
    "![欧拉公式2](./knn03.png)"
   ]
  },
  {
   "cell_type": "markdown",
   "metadata": {},
   "source": [
    "### kNN的过程"
   ]
  },
  {
   "cell_type": "code",
   "execution_count": 1,
   "metadata": {},
   "outputs": [],
   "source": [
    "import numpy as np\n",
    "import matplotlib.pyplot as plt"
   ]
  },
  {
   "cell_type": "code",
   "execution_count": 2,
   "metadata": {},
   "outputs": [
    {
     "data": {
      "image/png": "[encoded data removed]",
      "text/plain": [
       "<Figure size 432x288 with 1 Axes>"
      ]
     },
     "metadata": {
      "needs_background": "light"
     },
     "output_type": "display_data"
    }
   ],
   "source": [
    "# 生成测试数据\n",
    "raw_data_X = [[3.393533211, 2.331273381],\n",
    "              [3.110073483, 1.781539638],\n",
    "              [1.343808831, 3.368360954],\n",
    "              [3.582294042, 4.679179110],\n",
    "              [2.280362439, 2.866990263],\n",
    "              [7.423436942, 4.696522875],\n",
    "              [5.745051997, 3.533989803],\n",
    "              [9.172168622, 2.511101045],\n",
    "              [7.792783481, 3.424088941],\n",
    "              [7.939820817, 0.791637231]\n",
    "             ]\n",
    "raw_data_y = [0, 0, 0, 0, 0, 1, 1, 1, 1, 1]\n",
    "\n",
    "X_train = np.array(raw_data_X)\n",
    "y_train = np.array(raw_data_y)\n",
    "\n",
    "# 生成图像\n",
    "plt.scatter(X_train[y_train==0,0],X_train[y_train==0,1])\n",
    "plt.scatter(X_train[y_train==1,0],X_train[y_train==1,1])\n",
    "plt.show()"
   ]
  },
  {
   "cell_type": "code",
   "execution_count": 3,
   "metadata": {},
   "outputs": [
    {
     "data": {
      "image/png": "[encoded data removed]",
      "text/plain": [
       "<Figure size 432x288 with 1 Axes>"
      ]
     },
     "metadata": {
      "needs_background": "light"
     },
     "output_type": "display_data"
    }
   ],
   "source": [
    "# 预测新的的样本\n",
    "x = np.array([8.093607318, 3.365731514])\n",
    "\n",
    "plt.scatter(X_train[y_train==0,0],X_train[y_train==0,1])\n",
    "plt.scatter(X_train[y_train==1,0],X_train[y_train==1,1])\n",
    "plt.scatter(x[0], x[1], color='b')\n",
    "plt.show()"
   ]
  },
  {
   "cell_type": "code",
   "execution_count": 6,
   "metadata": {},
   "outputs": [
    {
     "data": {
      "text/plain": [
       "1"
      ]
     },
     "execution_count": 6,
     "metadata": {},
     "output_type": "execute_result"
    }
   ],
   "source": [
    "from math import sqrt\n",
    "from collections import Counter\n",
    "\n",
    "# 欧拉公式代码实现\n",
    "distances = [sqrt(np.sum((x_train - x)**2))\n",
    "             for x_train in X_train]\n",
    "\n",
    "# 进行排序，返回的是 排序后结果对应元素的索引\n",
    "nearest = np.argsort(distances)\n",
    "\n",
    "# k 值取5，取最近5的数据点进行投票\n",
    "k = 5\n",
    "topK_y = [y_train[neighbor] for neighbor in nearest[:k]]\n",
    "\n",
    "# 进行投票，返回的就是结果\n",
    "predict_y = Counter(topK_y).most_common(1)[0][0]\n",
    "\n",
    "predict_y"
   ]
  },
  {
   "cell_type": "markdown",
   "metadata": {},
   "source": [
    "## 使用scikit-learn中的kNN\n",
    "### 预测鸢尾花数据集"
   ]
  },
  {
   "cell_type": "code",
   "execution_count": 1,
   "metadata": {},
   "outputs": [],
   "source": [
    "from sklearn.neighbors import KNeighborsClassifier\n",
    "from sklearn.model_selection import train_test_split\n",
    "from sklearn import datasets"
   ]
  },
  {
   "cell_type": "code",
   "execution_count": 2,
   "metadata": {},
   "outputs": [],
   "source": [
    "# 加载数据集\n",
    "iris = datasets.load_iris()\n",
    "\n",
    "X = iris.data\n",
    "y = iris.target"
   ]
  },
  {
   "cell_type": "code",
   "execution_count": 3,
   "metadata": {},
   "outputs": [],
   "source": [
    "# 拆分测试与训练数据集\n",
    "X_train,X_test,y_train,y_test = train_test_split(X,y,random_state=666)"
   ]
  },
  {
   "cell_type": "code",
   "execution_count": 4,
   "metadata": {},
   "outputs": [
    {
     "name": "stdout",
     "output_type": "stream",
     "text": [
      "(112, 4)\n",
      "(112,)\n"
     ]
    }
   ],
   "source": [
    "print(X_train.shape)\n",
    "print(y_train.shape)"
   ]
  },
  {
   "cell_type": "code",
   "execution_count": 5,
   "metadata": {},
   "outputs": [
    {
     "name": "stdout",
     "output_type": "stream",
     "text": [
      "(38, 4)\n",
      "(38,)\n"
     ]
    }
   ],
   "source": [
    "print(X_test.shape)\n",
    "print(y_test.shape)"
   ]
  },
  {
   "cell_type": "code",
   "execution_count": 6,
   "metadata": {},
   "outputs": [
    {
     "data": {
      "text/plain": [
       "KNeighborsClassifier()"
      ]
     },
     "execution_count": 6,
     "metadata": {},
     "output_type": "execute_result"
    }
   ],
   "source": [
    "# 训练\n",
    "knn_clf = KNeighborsClassifier(n_neighbors=5)\n",
    "\n",
    "knn_clf.fit(X_train,y_train)"
   ]
  },
  {
   "cell_type": "code",
   "execution_count": 7,
   "metadata": {},
   "outputs": [
    {
     "data": {
      "text/plain": [
       "array([1, 2, 1, 2, 0, 1, 1, 2, 1, 1, 1, 0, 0, 0, 2, 1, 0, 2, 2, 2, 1, 0,\n",
       "       2, 0, 1, 1, 0, 1, 2, 2, 0, 0, 1, 2, 1, 1, 2, 2])"
      ]
     },
     "execution_count": 7,
     "metadata": {},
     "output_type": "execute_result"
    }
   ],
   "source": [
    "# 预测\n",
    "y_predict = knn_clf.predict(X_test)\n",
    "y_predict"
   ]
  },
  {
   "cell_type": "code",
   "execution_count": 8,
   "metadata": {},
   "outputs": [
    {
     "data": {
      "text/plain": [
       "1.0"
      ]
     },
     "execution_count": 8,
     "metadata": {},
     "output_type": "execute_result"
    }
   ],
   "source": [
    "# 预测准确率\n",
    "knn_clf.score(X_test,y_test)"
   ]
  },
  {
   "cell_type": "markdown",
   "metadata": {},
   "source": [
    "### 手写数字识别"
   ]
  },
  {
   "cell_type": "code",
   "execution_count": 9,
   "metadata": {},
   "outputs": [],
   "source": [
    "from sklearn.neighbors import KNeighborsClassifier\n",
    "from sklearn.model_selection import train_test_split\n",
    "from sklearn import datasets\n",
    "import numpy as np\n",
    "import matplotlib\n",
    "import matplotlib.pyplot as plt"
   ]
  },
  {
   "cell_type": "code",
   "execution_count": 10,
   "metadata": {},
   "outputs": [],
   "source": [
    "# 加载手写数字\n",
    "digits = datasets.load_digits()\n",
    "\n",
    "X = digits.data\n",
    "y = digits.target"
   ]
  },
  {
   "cell_type": "code",
   "execution_count": 11,
   "metadata": {},
   "outputs": [
    {
     "name": "stdout",
     "output_type": "stream",
     "text": [
      "3\n"
     ]
    },
    {
     "data": {
      "image/png": "[encoded data removed]",
      "text/plain": [
       "<Figure size 432x288 with 1 Axes>"
      ]
     },
     "metadata": {
      "needs_background": "light"
     },
     "output_type": "display_data"
    }
   ],
   "source": [
    "# 还原某一行数字\n",
    "some_digit = X[60]\n",
    "print(y[60])\n",
    "some_digit_image = some_digit.reshape(8,8)\n",
    "plt.imshow(some_digit_image,cmap=matplotlib.cm.binary)\n",
    "plt.show()"
   ]
  },
  {
   "cell_type": "code",
   "execution_count": 12,
   "metadata": {},
   "outputs": [],
   "source": [
    "# 拆分测试与训练数据集\n",
    "X_train,X_test,y_train,y_test = train_test_split(X,y)"
   ]
  },
  {
   "cell_type": "code",
   "execution_count": 13,
   "metadata": {},
   "outputs": [
    {
     "data": {
      "text/plain": [
       "KNeighborsClassifier()"
      ]
     },
     "execution_count": 13,
     "metadata": {},
     "output_type": "execute_result"
    }
   ],
   "source": [
    "# 训练\n",
    "knn_clf = KNeighborsClassifier(n_neighbors=5)\n",
    "\n",
    "knn_clf.fit(X_train,y_train)"
   ]
  },
  {
   "cell_type": "code",
   "execution_count": 14,
   "metadata": {},
   "outputs": [
    {
     "data": {
      "text/plain": [
       "array([0, 0, 7, 1, 8, 4, 3, 7, 7, 2, 5, 1, 7, 0, 5, 0, 1, 3, 7, 7, 8, 9,\n",
       "       6, 3, 5, 6, 2, 0, 4, 5, 3, 0, 7, 2, 6, 7, 3, 6, 6, 9, 2, 9, 3, 9,\n",
       "       9, 5, 8, 2, 1, 8, 3, 8, 2, 3, 5, 1, 9, 8, 8, 7, 5, 0, 2, 9, 0, 1,\n",
       "       0, 0, 6, 8, 0, 7, 8, 0, 1, 7, 7, 8, 8, 9, 1, 0, 7, 2, 5, 9, 3, 7,\n",
       "       1, 8, 8, 2, 2, 9, 4, 4, 5, 5, 8, 0, 3, 2, 0, 5, 8, 3, 3, 6, 9, 9,\n",
       "       8, 3, 4, 3, 9, 6, 8, 3, 1, 8, 1, 1, 9, 2, 1, 8, 1, 6, 2, 3, 8, 6,\n",
       "       7, 6, 4, 8, 7, 6, 1, 6, 9, 1, 3, 3, 4, 2, 4, 0, 5, 4, 4, 1, 9, 9,\n",
       "       0, 7, 0, 2, 0, 2, 0, 9, 7, 8, 5, 1, 2, 6, 8, 1, 9, 4, 1, 7, 1, 1,\n",
       "       0, 2, 2, 2, 7, 8, 6, 3, 3, 1, 8, 4, 1, 9, 0, 2, 8, 6, 5, 7, 9, 4,\n",
       "       1, 9, 7, 0, 4, 0, 0, 7, 5, 6, 9, 3, 2, 1, 2, 1, 6, 2, 4, 9, 6, 4,\n",
       "       3, 9, 9, 4, 7, 9, 9, 7, 5, 8, 0, 5, 6, 9, 5, 7, 1, 7, 5, 9, 7, 4,\n",
       "       9, 4, 4, 5, 1, 3, 6, 0, 5, 9, 8, 6, 5, 1, 1, 0, 3, 4, 9, 0, 2, 2,\n",
       "       5, 5, 0, 3, 0, 9, 5, 7, 6, 2, 9, 6, 2, 6, 5, 9, 4, 2, 6, 2, 2, 4,\n",
       "       6, 6, 9, 3, 8, 6, 7, 7, 7, 9, 6, 9, 1, 4, 3, 2, 7, 5, 4, 8, 8, 6,\n",
       "       3, 4, 6, 1, 2, 9, 6, 3, 4, 4, 3, 1, 7, 6, 1, 2, 4, 4, 4, 8, 9, 9,\n",
       "       1, 2, 7, 2, 5, 5, 3, 3, 4, 8, 7, 4, 1, 8, 8, 1, 2, 3, 5, 3, 7, 9,\n",
       "       5, 1, 9, 5, 0, 3, 3, 6, 4, 3, 5, 9, 9, 6, 2, 5, 9, 7, 4, 9, 5, 7,\n",
       "       9, 8, 5, 3, 9, 3, 4, 2, 6, 5, 1, 6, 4, 6, 3, 5, 3, 0, 6, 9, 2, 1,\n",
       "       0, 5, 5, 3, 6, 1, 8, 9, 9, 2, 7, 6, 4, 1, 4, 4, 3, 5, 1, 0, 3, 1,\n",
       "       9, 2, 1, 8, 6, 5, 4, 6, 7, 9, 3, 3, 5, 1, 3, 0, 0, 0, 0, 7, 6, 8,\n",
       "       4, 1, 3, 1, 5, 0, 2, 4, 0, 4])"
      ]
     },
     "execution_count": 14,
     "metadata": {},
     "output_type": "execute_result"
    }
   ],
   "source": [
    "# 预测\n",
    "y_predict = knn_clf.predict(X_test)\n",
    "y_predict"
   ]
  },
  {
   "cell_type": "code",
   "execution_count": 15,
   "metadata": {},
   "outputs": [
    {
     "data": {
      "text/plain": [
       "0.98"
      ]
     },
     "execution_count": 15,
     "metadata": {},
     "output_type": "execute_result"
    }
   ],
   "source": [
    "# 预测准确率\n",
    "knn_clf.score(X_test,y_test)"
   ]
  },
  {
   "cell_type": "code",
   "execution_count": null,
   "metadata": {},
   "outputs": [],
   "source": []
  }
 ],
 "metadata": {
  "kernelspec": {
   "display_name": "Python 3",
   "language": "python",
   "name": "python3"
  },
  "language_info": {
   "codemirror_mode": {
    "name": "ipython",
    "version": 3
   },
   "file_extension": ".py",
   "mimetype": "text/x-python",
   "name": "python",
   "nbconvert_exporter": "python",
   "pygments_lexer": "ipython3",
   "version": "3.8.3"
  }
 },
 "nbformat": 4,
 "nbformat_minor": 4
}
